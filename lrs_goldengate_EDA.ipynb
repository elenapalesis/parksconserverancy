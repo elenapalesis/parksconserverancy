{
 "cells": [
  {
   "cell_type": "code",
   "execution_count": 10,
   "metadata": {
    "collapsed": true
   },
   "outputs": [],
   "source": [
    "%matplotlib inline\n",
    "import matplotlib.pyplot as plt\n",
    "import pandas as pd\n",
    "import numpy as np\n",
    "from pprint import pprint"
   ]
  },
  {
   "cell_type": "code",
   "execution_count": 11,
   "metadata": {
    "collapsed": false
   },
   "outputs": [
    {
     "name": "stdout",
     "output_type": "stream",
     "text": [
      "(3592, 9)\n"
     ]
    }
   ],
   "source": [
    "df = pd.read_csv('./landsend_veg_2007_2012.csv')\n",
    "print df.shape"
   ]
  },
  {
   "cell_type": "markdown",
   "metadata": {},
   "source": [
    "### columns:\n",
    "\n",
    "**Site-YearCode, Transect, Point, Height , Species, Plant code, Native Status, Life History, Stature**\n"
   ]
  },
  {
   "cell_type": "code",
   "execution_count": 23,
   "metadata": {
    "collapsed": false
   },
   "outputs": [],
   "source": [
    "from define_column import define_column"
   ]
  },
  {
   "cell_type": "code",
   "execution_count": 33,
   "metadata": {
    "collapsed": false
   },
   "outputs": [
    {
     "name": "stdout",
     "output_type": "stream",
     "text": [
      "In other studies this grouping has been called “guild.” \n",
      "\n",
      "In this study the choices are forb*, grass, rush/sedge, shrub, or tree.\n",
      "\n",
      "*A forb is a soft-bodied plant that does not make a woody stem.\n"
     ]
    }
   ],
   "source": [
    "define_column('Stature')"
   ]
  },
  {
   "cell_type": "code",
   "execution_count": 27,
   "metadata": {
    "collapsed": false
   },
   "outputs": [],
   "source": [
    "df['Site'] = df['Site-YearCode'].apply(lambda x: x.split('-')[0])\n",
    "df['Year'] = df['Site-YearCode'].apply(lambda x: int(x.split('-')[1]))"
   ]
  },
  {
   "cell_type": "code",
   "execution_count": 28,
   "metadata": {
    "collapsed": false
   },
   "outputs": [
    {
     "data": {
      "text/html": [
       "<div>\n",
       "<table border=\"1\" class=\"dataframe\">\n",
       "  <thead>\n",
       "    <tr style=\"text-align: right;\">\n",
       "      <th></th>\n",
       "      <th>Site-YearCode</th>\n",
       "      <th>Transect</th>\n",
       "      <th>Point</th>\n",
       "      <th>Height</th>\n",
       "      <th>Species</th>\n",
       "      <th>Plant code</th>\n",
       "      <th>Native Status</th>\n",
       "      <th>Life History</th>\n",
       "      <th>Stature</th>\n",
       "      <th>Site</th>\n",
       "      <th>Year</th>\n",
       "    </tr>\n",
       "  </thead>\n",
       "  <tbody>\n",
       "    <tr>\n",
       "      <th>0</th>\n",
       "      <td>NUWO-2012</td>\n",
       "      <td>5</td>\n",
       "      <td>90</td>\n",
       "      <td>Low</td>\n",
       "      <td>-</td>\n",
       "      <td>-</td>\n",
       "      <td>-</td>\n",
       "      <td>-</td>\n",
       "      <td>-</td>\n",
       "      <td>NUWO</td>\n",
       "      <td>2012</td>\n",
       "    </tr>\n",
       "    <tr>\n",
       "      <th>1</th>\n",
       "      <td>NUWO-2012</td>\n",
       "      <td>13</td>\n",
       "      <td>150</td>\n",
       "      <td>Low</td>\n",
       "      <td>-</td>\n",
       "      <td>-</td>\n",
       "      <td>-</td>\n",
       "      <td>-</td>\n",
       "      <td>-</td>\n",
       "      <td>NUWO</td>\n",
       "      <td>2012</td>\n",
       "    </tr>\n",
       "    <tr>\n",
       "      <th>2</th>\n",
       "      <td>NMS-2010</td>\n",
       "      <td>8</td>\n",
       "      <td>20</td>\n",
       "      <td>Low</td>\n",
       "      <td>Achillea millefolium</td>\n",
       "      <td>ACMI</td>\n",
       "      <td>Native</td>\n",
       "      <td>Perennial</td>\n",
       "      <td>Forb</td>\n",
       "      <td>NMS</td>\n",
       "      <td>2010</td>\n",
       "    </tr>\n",
       "    <tr>\n",
       "      <th>3</th>\n",
       "      <td>NMS-2010</td>\n",
       "      <td>24</td>\n",
       "      <td>4</td>\n",
       "      <td>Low</td>\n",
       "      <td>Achillea millefolium</td>\n",
       "      <td>ACMI</td>\n",
       "      <td>Native</td>\n",
       "      <td>Perennial</td>\n",
       "      <td>Forb</td>\n",
       "      <td>NMS</td>\n",
       "      <td>2010</td>\n",
       "    </tr>\n",
       "    <tr>\n",
       "      <th>4</th>\n",
       "      <td>NMS-2010</td>\n",
       "      <td>48</td>\n",
       "      <td>16</td>\n",
       "      <td>Low</td>\n",
       "      <td>Achillea millefolium</td>\n",
       "      <td>ACMI</td>\n",
       "      <td>Native</td>\n",
       "      <td>Perennial</td>\n",
       "      <td>Forb</td>\n",
       "      <td>NMS</td>\n",
       "      <td>2010</td>\n",
       "    </tr>\n",
       "  </tbody>\n",
       "</table>\n",
       "</div>"
      ],
      "text/plain": [
       "  Site-YearCode  Transect  Point Height                Species Plant code  \\\n",
       "0     NUWO-2012         5     90     Low                     -          -   \n",
       "1     NUWO-2012        13    150     Low                     -          -   \n",
       "2      NMS-2010         8     20     Low  Achillea millefolium       ACMI   \n",
       "3      NMS-2010        24      4     Low  Achillea millefolium       ACMI   \n",
       "4      NMS-2010        48     16     Low  Achillea millefolium       ACMI   \n",
       "\n",
       "  Native Status Life History Stature  Site  Year  \n",
       "0             -            -       -  NUWO  2012  \n",
       "1             -            -       -  NUWO  2012  \n",
       "2        Native    Perennial    Forb   NMS  2010  \n",
       "3        Native    Perennial    Forb   NMS  2010  \n",
       "4        Native    Perennial    Forb   NMS  2010  "
      ]
     },
     "execution_count": 28,
     "metadata": {},
     "output_type": "execute_result"
    }
   ],
   "source": [
    "df.head()"
   ]
  },
  {
   "cell_type": "markdown",
   "metadata": {},
   "source": [
    "<img src='https://dl.dropboxusercontent.com/u/39642509/veg_monitor.jpg' width=800px>"
   ]
  },
  {
   "cell_type": "markdown",
   "metadata": {
    "collapsed": true
   },
   "source": [
    "<img src='https://dl.dropboxusercontent.com/u/39642509/veg_monitor_2.jpg' width='800px'>"
   ]
  },
  {
   "cell_type": "code",
   "execution_count": 15,
   "metadata": {
    "collapsed": true
   },
   "outputs": [
    {
     "name": "stdout",
     "output_type": "stream",
     "text": [
      "total rows: 3592\n",
      "\n",
      "# null values: \n",
      "Site-YearCode       0\n",
      "Transect            0\n",
      "Point               1\n",
      "Height              0\n",
      "Species             0\n",
      "Plant code       1019\n",
      "Native Status    1621\n",
      "Life History     1791\n",
      "Stature          1791\n",
      "dtype: int64\n",
      "\n",
      "% null values:\n",
      "Site-YearCode     0.000000\n",
      "Transect          0.000000\n",
      "Point             0.027840\n",
      "Height            0.000000\n",
      "Species           0.000000\n",
      "Plant code       28.368597\n",
      "Native Status    45.128062\n",
      "Life History     49.860802\n",
      "Stature          49.860802\n",
      "dtype: float64\n"
     ]
    }
   ],
   "source": [
    "print 'total rows:', len(df)\n",
    "print '\\n# null values: '\n",
    "print df.isnull().sum()\n",
    "print '\\n% null values:'\n",
    "print df.isnull().sum()/len(df)*100"
   ]
  },
  {
   "cell_type": "markdown",
   "metadata": {},
   "source": [
    "\n",
    "Exotic plant cover to 15%\n",
    "Maintain >75% cover in native dune scrub and coastal scrub vegetation\n",
    "\n",
    "Ideal Scrub Mix:\n",
    "\n",
    "\n",
    "\"Ericameria ericoides\n",
    "15%\n",
    "Armeria maritima\n",
    "11%\n",
    "Poa douglasii\n",
    "11%\n",
    "Castilleja affinis\n",
    "10%\n",
    "Artemisia pycnocephala\n",
    "6%\n",
    "Dudleya farinosa\n",
    "5%\n",
    "Erigeron glaucus\n",
    "5%\n",
    "Eriogonum latifolium\n",
    "5%\n",
    "Eriophyllum staechadifolium\n",
    "5%\n",
    "Fragaria chiloensis\n",
    "5%\n",
    "Lotus scoparius\n",
    "5%\n",
    "Lupinus chamissonis\n",
    "5%\n",
    "Polygonum paronychia\n",
    "5%\n",
    "Tanacetum camphoratum \n",
    "5%\n",
    "Baccharis pilularis\n",
    "1%\n",
    "Camissonia cheiranthifolia\n",
    "1%\"\n"
   ]
  },
  {
   "cell_type": "code",
   "execution_count": 39,
   "metadata": {
    "collapsed": false
   },
   "outputs": [
    {
     "name": "stdout",
     "output_type": "stream",
     "text": [
      "{'Artemisia pycnocephala': 0.06, 'Fragaria chiloensis': 0.05, 'Lupinus chamissonis': 0.05, 'Dudleya farinosa': 0.05, 'Poa douglasii': 0.11, 'Eriophyllum staechadifolium': 0.05, 'Armeria maritima': 0.11, 'Polygonum paronychia': 0.05, 'Tanacetum camphoratum': 0.05, 'Castilleja affinis': 0.1, 'Lotus scoparius': 0.05, 'Baccharis pilularis': 0.01, 'Eriogonum latifolium': 0.05, 'Ericameria ericoides': 0.15, 'Erigeron glaucus': 0.05}\n"
     ]
    }
   ],
   "source": [
    "with open('ideal_mix.txt') as infile:\n",
    "    stuff = infile.readlines()\n",
    "    species = [spec.strip() for spec in stuff[::2]]\n",
    "    percents = [float(perc.strip().replace('%',''))/100 for perc in stuff[1::2]]\n",
    "    # print species\n",
    "    # print percents\n",
    "    \n",
    "ideal_mix = dict(zip(species,percents))\n",
    "print ideal_mix"
   ]
  },
  {
   "cell_type": "code",
   "execution_count": 42,
   "metadata": {
    "collapsed": false
   },
   "outputs": [],
   "source": [
    "import json\n",
    "\n",
    "with open('ideal_mix.json','w') as outfile:\n",
    "    json.dump(ideal_mix,outfile)\n",
    "    "
   ]
  }
 ],
 "metadata": {
  "kernelspec": {
   "display_name": "Python 2",
   "language": "python",
   "name": "python2"
  },
  "language_info": {
   "codemirror_mode": {
    "name": "ipython",
    "version": 2
   },
   "file_extension": ".py",
   "mimetype": "text/x-python",
   "name": "python",
   "nbconvert_exporter": "python",
   "pygments_lexer": "ipython2",
   "version": "2.7.10"
  }
 },
 "nbformat": 4,
 "nbformat_minor": 0
}
