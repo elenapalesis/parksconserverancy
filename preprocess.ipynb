{
 "cells": [
  {
   "cell_type": "code",
   "execution_count": 1,
   "metadata": {
    "collapsed": false
   },
   "outputs": [
    {
     "name": "stdout",
     "output_type": "stream",
     "text": [
      "\u001b[0m\u001b[00;38;5;244m\u001b[m\u001b[00;38;5;64mclean_data.py\u001b[0m*                       \u001b[00;38;5;244m\u001b[m\u001b[00;38;5;64mlandsend_veg_2007_2012.csv\u001b[0m*\r\n",
      "\u001b[00;38;5;244m\u001b[m\u001b[00;38;5;64mcleaned_landsend_veg_2007_2012.csv\u001b[0m*  \u001b[00;38;5;244m\u001b[m\u001b[00;38;5;64mlrs_goldengate_EDA.ipynb\u001b[0m*\r\n",
      "\u001b[00;38;5;244m\u001b[m\u001b[00;38;5;64mdefine_column.py\u001b[0m*                    \u001b[00;38;5;244m\u001b[m\u001b[00;38;5;64mpreprocess.ipynb\u001b[0m*\r\n",
      "\u001b[00;38;5;244m\u001b[m\u001b[00;38;5;64mideal_mix.json\u001b[0m*                      \u001b[00;38;5;244m\u001b[m\u001b[00;38;5;64mREADME.md\u001b[0m*\r\n"
     ]
    }
   ],
   "source": [
    "%ls"
   ]
  },
  {
   "cell_type": "markdown",
   "metadata": {},
   "source": [
    "## first import packages needed"
   ]
  },
  {
   "cell_type": "code",
   "execution_count": 59,
   "metadata": {
    "collapsed": true
   },
   "outputs": [],
   "source": [
    "import numpy as np\n",
    "import pandas as pd\n",
    "import matplotlib.pyplot as plt\n",
    "%matplotlib inline"
   ]
  },
  {
   "cell_type": "code",
   "execution_count": 60,
   "metadata": {
    "collapsed": false,
    "scrolled": true
   },
   "outputs": [
    {
     "data": {
      "text/html": [
       "<div>\n",
       "<table border=\"1\" class=\"dataframe\">\n",
       "  <thead>\n",
       "    <tr style=\"text-align: right;\">\n",
       "      <th></th>\n",
       "      <th>Site-YearCode</th>\n",
       "      <th>Transect</th>\n",
       "      <th>Point</th>\n",
       "      <th>Height</th>\n",
       "      <th>Species</th>\n",
       "      <th>Plant code</th>\n",
       "      <th>Native Status</th>\n",
       "      <th>Life History</th>\n",
       "      <th>Stature</th>\n",
       "    </tr>\n",
       "  </thead>\n",
       "  <tbody>\n",
       "    <tr>\n",
       "      <th>0</th>\n",
       "      <td>NUWO-2012</td>\n",
       "      <td>5</td>\n",
       "      <td>90</td>\n",
       "      <td>Low</td>\n",
       "      <td>-</td>\n",
       "      <td>-</td>\n",
       "      <td>-</td>\n",
       "      <td>-</td>\n",
       "      <td>-</td>\n",
       "    </tr>\n",
       "    <tr>\n",
       "      <th>1</th>\n",
       "      <td>NUWO-2012</td>\n",
       "      <td>13</td>\n",
       "      <td>150</td>\n",
       "      <td>Low</td>\n",
       "      <td>-</td>\n",
       "      <td>-</td>\n",
       "      <td>-</td>\n",
       "      <td>-</td>\n",
       "      <td>-</td>\n",
       "    </tr>\n",
       "    <tr>\n",
       "      <th>2</th>\n",
       "      <td>NMS-2010</td>\n",
       "      <td>8</td>\n",
       "      <td>20</td>\n",
       "      <td>Low</td>\n",
       "      <td>Achillea millefolium</td>\n",
       "      <td>ACMI</td>\n",
       "      <td>Native</td>\n",
       "      <td>Perennial</td>\n",
       "      <td>Forb</td>\n",
       "    </tr>\n",
       "    <tr>\n",
       "      <th>3</th>\n",
       "      <td>NMS-2010</td>\n",
       "      <td>24</td>\n",
       "      <td>4</td>\n",
       "      <td>Low</td>\n",
       "      <td>Achillea millefolium</td>\n",
       "      <td>ACMI</td>\n",
       "      <td>Native</td>\n",
       "      <td>Perennial</td>\n",
       "      <td>Forb</td>\n",
       "    </tr>\n",
       "    <tr>\n",
       "      <th>4</th>\n",
       "      <td>NMS-2010</td>\n",
       "      <td>48</td>\n",
       "      <td>16</td>\n",
       "      <td>Low</td>\n",
       "      <td>Achillea millefolium</td>\n",
       "      <td>ACMI</td>\n",
       "      <td>Native</td>\n",
       "      <td>Perennial</td>\n",
       "      <td>Forb</td>\n",
       "    </tr>\n",
       "  </tbody>\n",
       "</table>\n",
       "</div>"
      ],
      "text/plain": [
       "  Site-YearCode  Transect  Point Height                Species Plant code  \\\n",
       "0     NUWO-2012         5     90     Low                     -          -   \n",
       "1     NUWO-2012        13    150     Low                     -          -   \n",
       "2      NMS-2010         8     20     Low  Achillea millefolium       ACMI   \n",
       "3      NMS-2010        24      4     Low  Achillea millefolium       ACMI   \n",
       "4      NMS-2010        48     16     Low  Achillea millefolium       ACMI   \n",
       "\n",
       "  Native Status Life History Stature  \n",
       "0             -            -       -  \n",
       "1             -            -       -  \n",
       "2        Native    Perennial    Forb  \n",
       "3        Native    Perennial    Forb  \n",
       "4        Native    Perennial    Forb  "
      ]
     },
     "execution_count": 60,
     "metadata": {},
     "output_type": "execute_result"
    }
   ],
   "source": [
    "df = pd.read_csv(\"landsend_veg_2007_2012.csv\")\n",
    "df.head()"
   ]
  },
  {
   "cell_type": "code",
   "execution_count": null,
   "metadata": {
    "collapsed": true
   },
   "outputs": [],
   "source": []
  },
  {
   "cell_type": "markdown",
   "metadata": {},
   "source": [
    "this is a wrong data point (**\"SUDO-2014\"**) according to Naomi, please delete it!"
   ]
  },
  {
   "cell_type": "code",
   "execution_count": 4,
   "metadata": {
    "collapsed": false,
    "scrolled": true
   },
   "outputs": [
    {
     "data": {
      "text/html": [
       "<div>\n",
       "<table border=\"1\" class=\"dataframe\">\n",
       "  <thead>\n",
       "    <tr style=\"text-align: right;\">\n",
       "      <th></th>\n",
       "      <th>Site-YearCode</th>\n",
       "      <th>Transect</th>\n",
       "      <th>Point</th>\n",
       "      <th>Height</th>\n",
       "      <th>Species</th>\n",
       "      <th>Plant code</th>\n",
       "      <th>Native Status</th>\n",
       "      <th>Life History</th>\n",
       "      <th>Stature</th>\n",
       "    </tr>\n",
       "  </thead>\n",
       "  <tbody>\n",
       "  </tbody>\n",
       "</table>\n",
       "</div>"
      ],
      "text/plain": [
       "Empty DataFrame\n",
       "Columns: [Site-YearCode, Transect, Point, Height , Species, Plant code, Native Status, Life History, Stature]\n",
       "Index: []"
      ]
     },
     "execution_count": 4,
     "metadata": {},
     "output_type": "execute_result"
    }
   ],
   "source": [
    "valid = df[\"Site-YearCode\"] == \"SUDO-2014\"\n",
    "df.loc[valid]"
   ]
  },
  {
   "cell_type": "markdown",
   "metadata": {},
   "source": [
    " count the frequencies of species in the data set"
   ]
  },
  {
   "cell_type": "code",
   "execution_count": 61,
   "metadata": {
    "collapsed": false,
    "scrolled": true
   },
   "outputs": [
    {
     "name": "stderr",
     "output_type": "stream",
     "text": [
      "/usr/local/lib/python3.4/dist-packages/IPython/kernel/__main__.py:4: FutureWarning: sort is deprecated, use sort_values(inplace=True) for for INPLACE sorting\n"
     ]
    }
   ],
   "source": [
    "species = df[[\"Species\"]].copy()\n",
    "species[\"counts\"] = 1\n",
    "species_freq = species.groupby(\"Species\").agg(sum).iloc[:,0].copy()\n",
    "species_freq.sort(ascending=False)"
   ]
  },
  {
   "cell_type": "code",
   "execution_count": 62,
   "metadata": {
    "collapsed": false
   },
   "outputs": [
    {
     "data": {
      "image/png": "[encoded data removed]",
      "text/plain": [
       "<matplotlib.figure.Figure at 0x7faf540e2b70>"
      ]
     },
     "metadata": {},
     "output_type": "display_data"
    }
   ],
   "source": [
    "plt.figure(figsize=(14,4))\n",
    "species_freq[:50].plot(kind = \"bar\")\n",
    "pass"
   ]
  },
  {
   "cell_type": "markdown",
   "metadata": {},
   "source": [
    "Extract the **columns** we need (`\"Site-YearCode\"`, `\"Species\"`), and take **rows** which have no missing values (\"-\")"
   ]
  },
  {
   "cell_type": "code",
   "execution_count": 63,
   "metadata": {
    "collapsed": false
   },
   "outputs": [],
   "source": [
    "df_yr_sp = df[[\"Site-YearCode\", \"Species\"]]\n",
    "valid = ~ df_yr_sp.applymap( lambda x: x == \"-\").any(axis=1)\n",
    "df_yr_sp = df_yr_sp.loc[valid]"
   ]
  },
  {
   "cell_type": "markdown",
   "metadata": {},
   "source": [
    "split the `Site-YearCode` column into `site` and `year` columns"
   ]
  },
  {
   "cell_type": "code",
   "execution_count": 64,
   "metadata": {
    "collapsed": false,
    "scrolled": true
   },
   "outputs": [
    {
     "data": {
      "text/html": [
       "<div>\n",
       "<table border=\"1\" class=\"dataframe\">\n",
       "  <thead>\n",
       "    <tr style=\"text-align: right;\">\n",
       "      <th></th>\n",
       "      <th>Species</th>\n",
       "      <th>year</th>\n",
       "      <th>site</th>\n",
       "    </tr>\n",
       "  </thead>\n",
       "  <tbody>\n",
       "    <tr>\n",
       "      <th>2</th>\n",
       "      <td>Achillea millefolium</td>\n",
       "      <td>2010</td>\n",
       "      <td>NMS</td>\n",
       "    </tr>\n",
       "    <tr>\n",
       "      <th>3</th>\n",
       "      <td>Achillea millefolium</td>\n",
       "      <td>2010</td>\n",
       "      <td>NMS</td>\n",
       "    </tr>\n",
       "    <tr>\n",
       "      <th>4</th>\n",
       "      <td>Achillea millefolium</td>\n",
       "      <td>2010</td>\n",
       "      <td>NMS</td>\n",
       "    </tr>\n",
       "    <tr>\n",
       "      <th>5</th>\n",
       "      <td>Achillea millefolium</td>\n",
       "      <td>2010</td>\n",
       "      <td>NMS</td>\n",
       "    </tr>\n",
       "    <tr>\n",
       "      <th>6</th>\n",
       "      <td>Achillea millefolium</td>\n",
       "      <td>2011</td>\n",
       "      <td>NMS</td>\n",
       "    </tr>\n",
       "  </tbody>\n",
       "</table>\n",
       "</div>"
      ],
      "text/plain": [
       "                Species  year site\n",
       "2  Achillea millefolium  2010  NMS\n",
       "3  Achillea millefolium  2010  NMS\n",
       "4  Achillea millefolium  2010  NMS\n",
       "5  Achillea millefolium  2010  NMS\n",
       "6  Achillea millefolium  2011  NMS"
      ]
     },
     "execution_count": 64,
     "metadata": {},
     "output_type": "execute_result"
    }
   ],
   "source": [
    "get_year = lambda x : int(x.split(\"-\")[-1])\n",
    "df_yr_sp[\"year\"] = df_yr_sp[\"Site-YearCode\"].map( get_year )\n",
    "\n",
    "get_site = lambda x : (x.split(\"-\")[0])\n",
    "df_yr_sp[\"site\"] = df_yr_sp[\"Site-YearCode\"].map( get_site )\n",
    "\n",
    "df_yr_sp.drop(\"Site-YearCode\", axis=1, inplace = True)\n",
    "df_yr_sp.head()"
   ]
  },
  {
   "cell_type": "markdown",
   "metadata": {},
   "source": [
    "###Grouping"
   ]
  },
  {
   "cell_type": "markdown",
   "metadata": {},
   "source": [
    "toy example: iterate over site and year groups:"
   ]
  },
  {
   "cell_type": "code",
   "execution_count": 9,
   "metadata": {
    "collapsed": false,
    "scrolled": true
   },
   "outputs": [
    {
     "name": "stdout",
     "output_type": "stream",
     "text": [
      "('EAPO', 2011) 31\n",
      "('NMS', 2010) 45\n",
      "('NMS', 2011) 35\n",
      "('NMS', 2012) 54\n",
      "('NUWO', 2010) 54\n",
      "('NUWO', 2011) 25\n",
      "('NUWO', 2012) 47\n",
      "('SUDU', 2008) 33\n",
      "('SUDU', 2009) 40\n",
      "('SUDU', 2010) 35\n",
      "('SUDU', 2011) 31\n",
      "('SUDU', 2012) 41\n",
      "('SUDU', 2013) 4\n"
     ]
    }
   ],
   "source": [
    "for kk, vv in df_yr_sp.groupby([\"site\", \"year\"]):\n",
    "    print(kk, vv[\"Species\"].unique().shape[0] )"
   ]
  },
  {
   "cell_type": "code",
   "execution_count": 104,
   "metadata": {
    "collapsed": false
   },
   "outputs": [
    {
     "data": {
      "text/plain": [
       "site  year\n",
       "EAPO  2011    390\n",
       "NMS   2010    247\n",
       "      2011    175\n",
       "      2012    335\n",
       "NUWO  2010    320\n",
       "Name: Species, dtype: int64"
      ]
     },
     "execution_count": 104,
     "metadata": {},
     "output_type": "execute_result"
    }
   ],
   "source": [
    "spnum = df_yr_sp.groupby([\"site\", \"year\"]).agg(\"count\")[\"Species\"]\n",
    "spnum.head()"
   ]
  },
  {
   "cell_type": "code",
   "execution_count": 105,
   "metadata": {
    "collapsed": false
   },
   "outputs": [
    {
     "data": {
      "text/html": [
       "<div>\n",
       "<table border=\"1\" class=\"dataframe\">\n",
       "  <thead>\n",
       "    <tr style=\"text-align: right;\">\n",
       "      <th>site</th>\n",
       "      <th>EAPO</th>\n",
       "      <th>NMS</th>\n",
       "      <th>NUWO</th>\n",
       "      <th>SUDU</th>\n",
       "    </tr>\n",
       "    <tr>\n",
       "      <th>year</th>\n",
       "      <th></th>\n",
       "      <th></th>\n",
       "      <th></th>\n",
       "      <th></th>\n",
       "    </tr>\n",
       "  </thead>\n",
       "  <tbody>\n",
       "    <tr>\n",
       "      <th>2008</th>\n",
       "      <td>NaN</td>\n",
       "      <td>NaN</td>\n",
       "      <td>NaN</td>\n",
       "      <td>498</td>\n",
       "    </tr>\n",
       "    <tr>\n",
       "      <th>2009</th>\n",
       "      <td>NaN</td>\n",
       "      <td>NaN</td>\n",
       "      <td>NaN</td>\n",
       "      <td>505</td>\n",
       "    </tr>\n",
       "    <tr>\n",
       "      <th>2010</th>\n",
       "      <td>NaN</td>\n",
       "      <td>247</td>\n",
       "      <td>320</td>\n",
       "      <td>222</td>\n",
       "    </tr>\n",
       "    <tr>\n",
       "      <th>2011</th>\n",
       "      <td>390</td>\n",
       "      <td>175</td>\n",
       "      <td>115</td>\n",
       "      <td>177</td>\n",
       "    </tr>\n",
       "    <tr>\n",
       "      <th>2012</th>\n",
       "      <td>NaN</td>\n",
       "      <td>335</td>\n",
       "      <td>400</td>\n",
       "      <td>200</td>\n",
       "    </tr>\n",
       "    <tr>\n",
       "      <th>2013</th>\n",
       "      <td>NaN</td>\n",
       "      <td>NaN</td>\n",
       "      <td>NaN</td>\n",
       "      <td>5</td>\n",
       "    </tr>\n",
       "  </tbody>\n",
       "</table>\n",
       "</div>"
      ],
      "text/plain": [
       "site  EAPO  NMS  NUWO  SUDU\n",
       "year                       \n",
       "2008   NaN  NaN   NaN   498\n",
       "2009   NaN  NaN   NaN   505\n",
       "2010   NaN  247   320   222\n",
       "2011   390  175   115   177\n",
       "2012   NaN  335   400   200\n",
       "2013   NaN  NaN   NaN     5"
      ]
     },
     "execution_count": 105,
     "metadata": {},
     "output_type": "execute_result"
    }
   ],
   "source": [
    "spnum_t = pd.pivot_table( spnum.reset_index() , index = \"year\", columns= \"site\")[\"Species\"]#.fillna(0)\n",
    "spnum_t"
   ]
  },
  {
   "cell_type": "code",
   "execution_count": 108,
   "metadata": {
    "collapsed": false
   },
   "outputs": [
    {
     "data": {
      "image/png": "[encoded data removed]",
      "text/plain": [
       "<matplotlib.figure.Figure at 0x7faf540d4b00>"
      ]
     },
     "metadata": {},
     "output_type": "display_data"
    }
   ],
   "source": [
    "xlims = (2008, 2012)\n",
    "\n",
    "plt.plot(spnum_t.index.tolist(), spnum_t, \"o-\", lw = 3)\n",
    "\n",
    "x_formatter = plt.matplotlib.ticker.ScalarFormatter(useOffset=False)\n",
    "plt.gca().xaxis.set_major_formatter(x_formatter)\n",
    "plt.xlim(xlims)\n",
    "plt.xticks(range(xlims[0], xlims[-1]+1))\n",
    "plt.legend(spnum_t.columns.tolist())\n",
    "pass"
   ]
  },
  {
   "cell_type": "markdown",
   "metadata": {},
   "source": [
    "more grouping excersise"
   ]
  },
  {
   "cell_type": "code",
   "execution_count": 12,
   "metadata": {
    "collapsed": false,
    "scrolled": true
   },
   "outputs": [
    {
     "data": {
      "text/html": [
       "<div>\n",
       "<table border=\"1\" class=\"dataframe\">\n",
       "  <thead>\n",
       "    <tr style=\"text-align: right;\">\n",
       "      <th></th>\n",
       "      <th>year</th>\n",
       "      <th>Species</th>\n",
       "      <th>count</th>\n",
       "    </tr>\n",
       "    <tr>\n",
       "      <th>site</th>\n",
       "      <th></th>\n",
       "      <th></th>\n",
       "      <th></th>\n",
       "    </tr>\n",
       "  </thead>\n",
       "  <tbody>\n",
       "    <tr>\n",
       "      <th>SUDU</th>\n",
       "      <td>2008</td>\n",
       "      <td>Abronia latifolia</td>\n",
       "      <td>5</td>\n",
       "    </tr>\n",
       "    <tr>\n",
       "      <th>SUDU</th>\n",
       "      <td>2008</td>\n",
       "      <td>Achillea millefolium</td>\n",
       "      <td>12</td>\n",
       "    </tr>\n",
       "    <tr>\n",
       "      <th>SUDU</th>\n",
       "      <td>2008</td>\n",
       "      <td>Ambrosia chamissonis</td>\n",
       "      <td>14</td>\n",
       "    </tr>\n",
       "    <tr>\n",
       "      <th>SUDU</th>\n",
       "      <td>2008</td>\n",
       "      <td>Artemisia californica</td>\n",
       "      <td>1</td>\n",
       "    </tr>\n",
       "    <tr>\n",
       "      <th>SUDU</th>\n",
       "      <td>2008</td>\n",
       "      <td>Artemisia pycnocephala</td>\n",
       "      <td>67</td>\n",
       "    </tr>\n",
       "  </tbody>\n",
       "</table>\n",
       "</div>"
      ],
      "text/plain": [
       "      year                  Species  count\n",
       "site                                      \n",
       "SUDU  2008        Abronia latifolia      5\n",
       "SUDU  2008    Achillea millefolium      12\n",
       "SUDU  2008     Ambrosia chamissonis     14\n",
       "SUDU  2008    Artemisia californica      1\n",
       "SUDU  2008  Artemisia pycnocephala      67"
      ]
     },
     "execution_count": 12,
     "metadata": {},
     "output_type": "execute_result"
    }
   ],
   "source": [
    "df_yr_sp[\"count\"] = 1\n",
    "\n",
    "df_site_sp_yr = df_yr_sp.\\\n",
    "groupby([\"site\", \"year\",  \"Species\",]).agg(\"count\").\\\n",
    "reset_index().set_index(\"site\")\n",
    "\n",
    "df_site_sp_yr.loc[\"SUDU\"].head()"
   ]
  },
  {
   "cell_type": "markdown",
   "metadata": {},
   "source": [
    "_note that `\"count\"` in `.agg(\"count\")` here is not a column name, but a name of a function!_"
   ]
  },
  {
   "cell_type": "code",
   "execution_count": 13,
   "metadata": {
    "collapsed": false
   },
   "outputs": [
    {
     "data": {
      "text/html": [
       "<div>\n",
       "<table border=\"1\" class=\"dataframe\">\n",
       "  <thead>\n",
       "    <tr style=\"text-align: right;\">\n",
       "      <th></th>\n",
       "      <th></th>\n",
       "      <th>Species</th>\n",
       "    </tr>\n",
       "    <tr>\n",
       "      <th>site</th>\n",
       "      <th>year</th>\n",
       "      <th></th>\n",
       "    </tr>\n",
       "  </thead>\n",
       "  <tbody>\n",
       "    <tr>\n",
       "      <th>EAPO</th>\n",
       "      <th>2011</th>\n",
       "      <td>31</td>\n",
       "    </tr>\n",
       "    <tr>\n",
       "      <th rowspan=\"3\" valign=\"top\">NMS</th>\n",
       "      <th>2010</th>\n",
       "      <td>45</td>\n",
       "    </tr>\n",
       "    <tr>\n",
       "      <th>2011</th>\n",
       "      <td>35</td>\n",
       "    </tr>\n",
       "    <tr>\n",
       "      <th>2012</th>\n",
       "      <td>54</td>\n",
       "    </tr>\n",
       "    <tr>\n",
       "      <th rowspan=\"3\" valign=\"top\">NUWO</th>\n",
       "      <th>2010</th>\n",
       "      <td>54</td>\n",
       "    </tr>\n",
       "    <tr>\n",
       "      <th>2011</th>\n",
       "      <td>25</td>\n",
       "    </tr>\n",
       "    <tr>\n",
       "      <th>2012</th>\n",
       "      <td>47</td>\n",
       "    </tr>\n",
       "    <tr>\n",
       "      <th rowspan=\"6\" valign=\"top\">SUDU</th>\n",
       "      <th>2008</th>\n",
       "      <td>33</td>\n",
       "    </tr>\n",
       "    <tr>\n",
       "      <th>2009</th>\n",
       "      <td>40</td>\n",
       "    </tr>\n",
       "    <tr>\n",
       "      <th>2010</th>\n",
       "      <td>35</td>\n",
       "    </tr>\n",
       "    <tr>\n",
       "      <th>2011</th>\n",
       "      <td>31</td>\n",
       "    </tr>\n",
       "    <tr>\n",
       "      <th>2012</th>\n",
       "      <td>41</td>\n",
       "    </tr>\n",
       "    <tr>\n",
       "      <th>2013</th>\n",
       "      <td>4</td>\n",
       "    </tr>\n",
       "  </tbody>\n",
       "</table>\n",
       "</div>"
      ],
      "text/plain": [
       "           Species\n",
       "site year         \n",
       "EAPO 2011       31\n",
       "NMS  2010       45\n",
       "     2011       35\n",
       "     2012       54\n",
       "NUWO 2010       54\n",
       "     2011       25\n",
       "     2012       47\n",
       "SUDU 2008       33\n",
       "     2009       40\n",
       "     2010       35\n",
       "     2011       31\n",
       "     2012       41\n",
       "     2013        4"
      ]
     },
     "execution_count": 13,
     "metadata": {},
     "output_type": "execute_result"
    }
   ],
   "source": [
    "df_num_species = df_site_sp_yr.reset_index().copy()\n",
    "df_num_species.drop(\"count\", axis = 1).\\\n",
    "    groupby([\"site\",\"year\"]).agg(\"count\")"
   ]
  },
  {
   "cell_type": "markdown",
   "metadata": {
    "collapsed": true
   },
   "source": [
    "### Pivoting"
   ]
  },
  {
   "cell_type": "code",
   "execution_count": 14,
   "metadata": {
    "collapsed": true
   },
   "outputs": [],
   "source": [
    "cols = [\"Species\",\"year\", \"site\"]\n",
    "df_yr_sp[\"count\"] = 1"
   ]
  },
  {
   "cell_type": "code",
   "execution_count": 29,
   "metadata": {
    "collapsed": false
   },
   "outputs": [
    {
     "data": {
      "text/html": [
       "<div>\n",
       "<table border=\"1\" class=\"dataframe\">\n",
       "  <thead>\n",
       "    <tr style=\"text-align: right;\">\n",
       "      <th>year</th>\n",
       "      <th>2008</th>\n",
       "      <th>2009</th>\n",
       "      <th>2010</th>\n",
       "      <th>2011</th>\n",
       "      <th>2012</th>\n",
       "      <th>2013</th>\n",
       "    </tr>\n",
       "    <tr>\n",
       "      <th>Species</th>\n",
       "      <th></th>\n",
       "      <th></th>\n",
       "      <th></th>\n",
       "      <th></th>\n",
       "      <th></th>\n",
       "      <th></th>\n",
       "    </tr>\n",
       "  </thead>\n",
       "  <tbody>\n",
       "    <tr>\n",
       "      <th>Abronia latifolia</th>\n",
       "      <td>5</td>\n",
       "      <td>1</td>\n",
       "      <td>1</td>\n",
       "      <td>0</td>\n",
       "      <td>1</td>\n",
       "      <td>0</td>\n",
       "    </tr>\n",
       "    <tr>\n",
       "      <th>Achillea millefolium</th>\n",
       "      <td>0</td>\n",
       "      <td>0</td>\n",
       "      <td>5</td>\n",
       "      <td>4</td>\n",
       "      <td>5</td>\n",
       "      <td>0</td>\n",
       "    </tr>\n",
       "    <tr>\n",
       "      <th>Achillea millefolium</th>\n",
       "      <td>12</td>\n",
       "      <td>10</td>\n",
       "      <td>0</td>\n",
       "      <td>0</td>\n",
       "      <td>0</td>\n",
       "      <td>0</td>\n",
       "    </tr>\n",
       "    <tr>\n",
       "      <th>Albizia lophantha</th>\n",
       "      <td>0</td>\n",
       "      <td>1</td>\n",
       "      <td>1</td>\n",
       "      <td>0</td>\n",
       "      <td>1</td>\n",
       "      <td>0</td>\n",
       "    </tr>\n",
       "    <tr>\n",
       "      <th>Ambrosia chamissonis</th>\n",
       "      <td>14</td>\n",
       "      <td>11</td>\n",
       "      <td>7</td>\n",
       "      <td>1</td>\n",
       "      <td>4</td>\n",
       "      <td>0</td>\n",
       "    </tr>\n",
       "  </tbody>\n",
       "</table>\n",
       "</div>"
      ],
      "text/plain": [
       "year                   2008  2009  2010  2011  2012  2013\n",
       "Species                                                  \n",
       "Abronia latifolia         5     1     1     0     1     0\n",
       "Achillea millefolium      0     0     5     4     5     0\n",
       "Achillea millefolium     12    10     0     0     0     0\n",
       "Albizia lophantha         0     1     1     0     1     0\n",
       "Ambrosia chamissonis     14    11     7     1     4     0"
      ]
     },
     "execution_count": 29,
     "metadata": {},
     "output_type": "execute_result"
    }
   ],
   "source": [
    "dfpiv_sudu = pd.pivot_table(\n",
    "    df_site_sp_yr.loc[\"SUDU\"],\n",
    "    index = \"Species\", columns = \"year\").fillna(0)[\"count\"]\n",
    "\n",
    "dfpiv_sudu.head()"
   ]
  },
  {
   "cell_type": "code",
   "execution_count": 50,
   "metadata": {
    "collapsed": false
   },
   "outputs": [
    {
     "data": {
      "image/png": "[encoded data removed]",
      "text/plain": [
       "<matplotlib.figure.Figure at 0x7faf54270a90>"
      ]
     },
     "metadata": {},
     "output_type": "display_data"
    }
   ],
   "source": [
    "f = (dfpiv_sudu/dfpiv_sudu.sum())\n",
    "shannon = - (f*np.log2(f)).sum()\n",
    "shannon\n",
    "\n",
    "plt.plot(shannon.index.tolist(), shannon, \"x-\")\n",
    "\n",
    "x_formatter = plt.matplotlib.ticker.ScalarFormatter(useOffset=False)\n",
    "plt.gca().xaxis.set_major_formatter(x_formatter)\n",
    "plt.xlim(xlims)\n",
    "plt.xticks(range(xlims[0], xlims[-1]+1))\n",
    "plt.ylim([0, np.ceil(max(shannon))])\n",
    "plt.title(\"Shannon entropy on Sutro Dunes\")\n",
    "plt.xlabel(\"year\")\n",
    "plt.ylabel(\"diversity\")\n",
    "pass"
   ]
  },
  {
   "cell_type": "code",
   "execution_count": 52,
   "metadata": {
    "collapsed": false
   },
   "outputs": [
    {
     "data": {
      "image/png": "[encoded data removed]",
      "text/plain": [
       "<matplotlib.figure.Figure at 0x7faf561a89e8>"
      ]
     },
     "metadata": {},
     "output_type": "display_data"
    }
   ],
   "source": [
    "f = (dfpiv_sudu/dfpiv_sudu.sum())\n",
    "simpsons =  (f**2).sum()\n",
    "simpsons\n",
    "\n",
    "plt.plot(shannon.index.tolist(), simpsons, \"x-\")\n",
    "\n",
    "x_formatter = plt.matplotlib.ticker.ScalarFormatter(useOffset=False)\n",
    "plt.gca().xaxis.set_major_formatter(x_formatter)\n",
    "plt.xlim(xlims)\n",
    "plt.xticks(range(xlims[0], xlims[-1]+1))\n",
    "#plt.ylim([0, np.ceil(max(simpsons))])\n",
    "plt.title(\"Simpson's entropy  on Sutro Dunes\\n [0-diverse, 1-no diversity]\")\n",
    "plt.xlabel(\"year\")\n",
    "plt.ylabel(\"diversity\")\n",
    "pass"
   ]
  },
  {
   "cell_type": "code",
   "execution_count": 16,
   "metadata": {
    "collapsed": false
   },
   "outputs": [
    {
     "data": {
      "text/html": [
       "<div>\n",
       "<table border=\"1\" class=\"dataframe\">\n",
       "  <thead>\n",
       "    <tr>\n",
       "      <th></th>\n",
       "      <th colspan=\"6\" halign=\"left\">count</th>\n",
       "    </tr>\n",
       "    <tr>\n",
       "      <th>year</th>\n",
       "      <th>2008</th>\n",
       "      <th>2009</th>\n",
       "      <th>2010</th>\n",
       "      <th>2011</th>\n",
       "      <th>2012</th>\n",
       "      <th>2013</th>\n",
       "    </tr>\n",
       "    <tr>\n",
       "      <th>Species</th>\n",
       "      <th></th>\n",
       "      <th></th>\n",
       "      <th></th>\n",
       "      <th></th>\n",
       "      <th></th>\n",
       "      <th></th>\n",
       "    </tr>\n",
       "  </thead>\n",
       "  <tbody>\n",
       "    <tr>\n",
       "      <th>AVSP litter</th>\n",
       "      <td>0</td>\n",
       "      <td>0</td>\n",
       "      <td>2</td>\n",
       "      <td>0</td>\n",
       "      <td>0</td>\n",
       "      <td>0</td>\n",
       "    </tr>\n",
       "    <tr>\n",
       "      <th>Abronia latifolia</th>\n",
       "      <td>5</td>\n",
       "      <td>1</td>\n",
       "      <td>1</td>\n",
       "      <td>0</td>\n",
       "      <td>1</td>\n",
       "      <td>0</td>\n",
       "    </tr>\n",
       "    <tr>\n",
       "      <th>Achillea millefolium</th>\n",
       "      <td>0</td>\n",
       "      <td>0</td>\n",
       "      <td>12</td>\n",
       "      <td>9</td>\n",
       "      <td>25</td>\n",
       "      <td>0</td>\n",
       "    </tr>\n",
       "    <tr>\n",
       "      <th>Achillea millefolium</th>\n",
       "      <td>12</td>\n",
       "      <td>10</td>\n",
       "      <td>0</td>\n",
       "      <td>0</td>\n",
       "      <td>0</td>\n",
       "      <td>0</td>\n",
       "    </tr>\n",
       "    <tr>\n",
       "      <th>Albizia lophantha</th>\n",
       "      <td>0</td>\n",
       "      <td>1</td>\n",
       "      <td>1</td>\n",
       "      <td>0</td>\n",
       "      <td>1</td>\n",
       "      <td>0</td>\n",
       "    </tr>\n",
       "  </tbody>\n",
       "</table>\n",
       "</div>"
      ],
      "text/plain": [
       "                      count                         \n",
       "year                   2008 2009 2010 2011 2012 2013\n",
       "Species                                             \n",
       "AVSP litter               0    0    2    0    0    0\n",
       "Abronia latifolia         5    1    1    0    1    0\n",
       "Achillea millefolium      0    0   12    9   25    0\n",
       "Achillea millefolium     12   10    0    0    0    0\n",
       "Albizia lophantha         0    1    1    0    1    0"
      ]
     },
     "execution_count": 16,
     "metadata": {},
     "output_type": "execute_result"
    }
   ],
   "source": [
    "dfpiv_all = pd.pivot_table(\n",
    "    df_yr_sp.groupby(cols).agg(\"count\").reset_index().\\\n",
    "    drop(\"site\", axis = 1).groupby([\"Species\",\"year\"]).\\\n",
    "    agg(sum).reset_index(), index = \"Species\", columns = \"year\").\\\n",
    "        fillna(0)\n",
    "\n",
    "dfpiv_all.head()"
   ]
  }
 ],
 "metadata": {
  "kernelspec": {
   "display_name": "Python 3",
   "language": "python",
   "name": "python3"
  },
  "language_info": {
   "codemirror_mode": {
    "name": "ipython",
    "version": 3
   },
   "file_extension": ".py",
   "mimetype": "text/x-python",
   "name": "python",
   "nbconvert_exporter": "python",
   "pygments_lexer": "ipython3",
   "version": "3.4.3"
  }
 },
 "nbformat": 4,
 "nbformat_minor": 0
}
