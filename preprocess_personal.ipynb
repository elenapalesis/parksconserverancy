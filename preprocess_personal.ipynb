{
 "cells": [
  {
   "cell_type": "markdown",
   "metadata": {},
   "source": [
    "## Initial Processing with Pandas of Dataset"
   ]
  },
  {
   "cell_type": "markdown",
   "metadata": {},
   "source": [
    "### Check to make sure we're in the right directory"
   ]
  },
  {
   "cell_type": "code",
   "execution_count": 72,
   "metadata": {
    "collapsed": false
   },
   "outputs": [
    {
     "name": "stdout",
     "output_type": "stream",
     "text": [
      "landsend_veg_2007_2012.csv  preprocess.ipynb  README.md\r\n"
     ]
    }
   ],
   "source": [
    "%ls"
   ]
  },
  {
   "cell_type": "markdown",
   "metadata": {},
   "source": [
    "## Import Pandas and Matplotlib for processing + visualization"
   ]
  },
  {
   "cell_type": "code",
   "execution_count": 73,
   "metadata": {
    "collapsed": true
   },
   "outputs": [],
   "source": [
    "import pandas as pd\n",
    "import matplotlib.pyplot as plt\n",
    "%matplotlib inline"
   ]
  },
  {
   "cell_type": "markdown",
   "metadata": {},
   "source": [
    "### Read Data and Show first couple of columns"
   ]
  },
  {
   "cell_type": "code",
   "execution_count": 64,
   "metadata": {
    "collapsed": false
   },
   "outputs": [
    {
     "data": {
      "text/html": [
       "<div>\n",
       "<table border=\"1\" class=\"dataframe\">\n",
       "  <thead>\n",
       "    <tr style=\"text-align: right;\">\n",
       "      <th></th>\n",
       "      <th>Site-YearCode</th>\n",
       "      <th>Transect</th>\n",
       "      <th>Point</th>\n",
       "      <th>Height</th>\n",
       "      <th>Species</th>\n",
       "      <th>Plant code</th>\n",
       "      <th>Native Status</th>\n",
       "      <th>Life History</th>\n",
       "      <th>Stature</th>\n",
       "    </tr>\n",
       "  </thead>\n",
       "  <tbody>\n",
       "    <tr>\n",
       "      <th>0</th>\n",
       "      <td>NUWO-2012</td>\n",
       "      <td>5</td>\n",
       "      <td>90</td>\n",
       "      <td>Low</td>\n",
       "      <td>-</td>\n",
       "      <td>-</td>\n",
       "      <td>-</td>\n",
       "      <td>-</td>\n",
       "      <td>-</td>\n",
       "    </tr>\n",
       "    <tr>\n",
       "      <th>1</th>\n",
       "      <td>NUWO-2012</td>\n",
       "      <td>13</td>\n",
       "      <td>150</td>\n",
       "      <td>Low</td>\n",
       "      <td>-</td>\n",
       "      <td>-</td>\n",
       "      <td>-</td>\n",
       "      <td>-</td>\n",
       "      <td>-</td>\n",
       "    </tr>\n",
       "    <tr>\n",
       "      <th>2</th>\n",
       "      <td>NMS-2010</td>\n",
       "      <td>8</td>\n",
       "      <td>20</td>\n",
       "      <td>Low</td>\n",
       "      <td>Achillea millefolium</td>\n",
       "      <td>ACMI</td>\n",
       "      <td>Native</td>\n",
       "      <td>Perennial</td>\n",
       "      <td>Forb</td>\n",
       "    </tr>\n",
       "    <tr>\n",
       "      <th>3</th>\n",
       "      <td>NMS-2010</td>\n",
       "      <td>24</td>\n",
       "      <td>4</td>\n",
       "      <td>Low</td>\n",
       "      <td>Achillea millefolium</td>\n",
       "      <td>ACMI</td>\n",
       "      <td>Native</td>\n",
       "      <td>Perennial</td>\n",
       "      <td>Forb</td>\n",
       "    </tr>\n",
       "    <tr>\n",
       "      <th>4</th>\n",
       "      <td>NMS-2010</td>\n",
       "      <td>48</td>\n",
       "      <td>16</td>\n",
       "      <td>Low</td>\n",
       "      <td>Achillea millefolium</td>\n",
       "      <td>ACMI</td>\n",
       "      <td>Native</td>\n",
       "      <td>Perennial</td>\n",
       "      <td>Forb</td>\n",
       "    </tr>\n",
       "  </tbody>\n",
       "</table>\n",
       "</div>"
      ],
      "text/plain": [
       "  Site-YearCode  Transect  Point Height                Species Plant code  \\\n",
       "0     NUWO-2012         5     90     Low                     -          -   \n",
       "1     NUWO-2012        13    150     Low                     -          -   \n",
       "2      NMS-2010         8     20     Low  Achillea millefolium       ACMI   \n",
       "3      NMS-2010        24      4     Low  Achillea millefolium       ACMI   \n",
       "4      NMS-2010        48     16     Low  Achillea millefolium       ACMI   \n",
       "\n",
       "  Native Status Life History Stature  \n",
       "0             -            -       -  \n",
       "1             -            -       -  \n",
       "2        Native    Perennial    Forb  \n",
       "3        Native    Perennial    Forb  \n",
       "4        Native    Perennial    Forb  "
      ]
     },
     "execution_count": 64,
     "metadata": {},
     "output_type": "execute_result"
    }
   ],
   "source": [
    "df = pd.read_csv(\"landsend_veg_2007_2012.csv\")\n",
    "df.head()"
   ]
  },
  {
   "cell_type": "code",
   "execution_count": 65,
   "metadata": {
    "collapsed": false
   },
   "outputs": [
    {
     "data": {
      "text/html": [
       "<div>\n",
       "<table border=\"1\" class=\"dataframe\">\n",
       "  <thead>\n",
       "    <tr style=\"text-align: right;\">\n",
       "      <th></th>\n",
       "      <th>Site-YearCode</th>\n",
       "      <th>Transect</th>\n",
       "      <th>Point</th>\n",
       "      <th>Height</th>\n",
       "      <th>Species</th>\n",
       "      <th>Plant code</th>\n",
       "      <th>Native Status</th>\n",
       "      <th>Life History</th>\n",
       "      <th>Stature</th>\n",
       "    </tr>\n",
       "  </thead>\n",
       "  <tbody>\n",
       "    <tr>\n",
       "      <th>3395</th>\n",
       "      <td>SUDO-2014</td>\n",
       "      <td>28</td>\n",
       "      <td>0</td>\n",
       "      <td>L</td>\n",
       "      <td>Ambrosia chamissonis</td>\n",
       "      <td>AMCH</td>\n",
       "      <td>x</td>\n",
       "      <td>NaN</td>\n",
       "      <td>NaN</td>\n",
       "    </tr>\n",
       "  </tbody>\n",
       "</table>\n",
       "</div>"
      ],
      "text/plain": [
       "     Site-YearCode  Transect  Point Height                Species Plant code  \\\n",
       "3395     SUDO-2014        28      0       L  Ambrosia chamissonis       AMCH   \n",
       "\n",
       "     Native Status Life History Stature  \n",
       "3395             x          NaN     NaN  "
      ]
     },
     "execution_count": 65,
     "metadata": {},
     "output_type": "execute_result"
    }
   ],
   "source": [
    "valid = df[\"Site-YearCode\"] == \"SUDO-2014\"\n",
    "df.loc[valid]"
   ]
  },
  {
   "cell_type": "code",
   "execution_count": 83,
   "metadata": {
    "collapsed": false
   },
   "outputs": [
    {
     "data": {
      "text/plain": [
       "0                              -\n",
       "1                              -\n",
       "2           Achillea millefolium\n",
       "3           Achillea millefolium\n",
       "4           Achillea millefolium\n",
       "5           Achillea millefolium\n",
       "6           Achillea millefolium\n",
       "7           Achillea millefolium\n",
       "8           Achillea millefolium\n",
       "9           Achillea millefolium\n",
       "10          Achillea millefolium\n",
       "11          Achillea millefolium\n",
       "12          Achillea millefolium\n",
       "13          Achillea millefolium\n",
       "14          Achillea millefolium\n",
       "15          Achillea millefolium\n",
       "16          Achillea millefolium\n",
       "17          Achillea millefolium\n",
       "18          Achillea millefolium\n",
       "19          Achillea millefolium\n",
       "20          Achillea millefolium\n",
       "21          Achillea millefolium\n",
       "22          Achillea millefolium\n",
       "23          Achillea millefolium\n",
       "24          Achillea millefolium\n",
       "25          Achillea millefolium\n",
       "26          Achillea millefolium\n",
       "27          Achillea millefolium\n",
       "28          Achillea millefolium\n",
       "29          Achillea millefolium\n",
       "                  ...           \n",
       "3562          Rumex Salicifolius\n",
       "3563               Rubus ursinus\n",
       "3564               Rubus ursinus\n",
       "3565               Rubus ursinus\n",
       "3566               Rubus ursinus\n",
       "3567               Rubus ursinus\n",
       "3568          Satureja douglasii\n",
       "3569    Scrophularia californica\n",
       "3570           Sonchus oleraceus\n",
       "3571                     Solanum\n",
       "3572                     Solanum\n",
       "3573             Stellaria media\n",
       "3574       Tanacetum camphoratum\n",
       "3575       Tanacetum camphoratum\n",
       "3576            Vulpia bromoides\n",
       "3577                 Bare ground\n",
       "3578                 Bare ground\n",
       "3579      Artemisia pycnocephala\n",
       "3580                         Log\n",
       "3581                 Bare ground\n",
       "3582                 Bare ground\n",
       "3583                 Bare ground\n",
       "3584        Baccharius pilularis\n",
       "3585             dead tree stump\n",
       "3586        Baccharius pilularis\n",
       "3587                 Bare ground\n",
       "3588                 Bare ground\n",
       "3589      Artemisia pycnocephala\n",
       "3590                 Bare ground\n",
       "3591                 Bare ground\n",
       "Name: Species, dtype: object"
      ]
     },
     "execution_count": 83,
     "metadata": {},
     "output_type": "execute_result"
    }
   ],
   "source": [
    "df[\"Species\"]"
   ]
  },
  {
   "cell_type": "markdown",
   "metadata": {},
   "source": [
    "### Sort Species by Highest -> Lowest"
   ]
  },
  {
   "cell_type": "code",
   "execution_count": 75,
   "metadata": {
    "collapsed": false
   },
   "outputs": [
    {
     "data": {
      "text/plain": [
       "Species\n",
       "Eriophyllum staechadifolium          330\n",
       "Bare ground                          298\n",
       "Bromus diandrus                      265\n",
       "Lolium sp.                           194\n",
       "Bare Ground                          152\n",
       "Fragaria chiloensis                  125\n",
       "Baccharis pilularis                  125\n",
       "Cupressus macrocarpa                 119\n",
       "Rubus ursinus                        118\n",
       "Avena sp.                            112\n",
       "Lupinus arboreus                      95\n",
       "Briza maxima                          90\n",
       "Ehrharta erecta                       73\n",
       "Artemisia pycnocephala                71\n",
       "Eriogonum latifolium                  65\n",
       "Artemisia pycnocephala                64\n",
       "Scrophularia californica              62\n",
       "Lupinus chamissonis                   54\n",
       "Marah fabaceus                        53\n",
       "Achillea millefolium                  46\n",
       "Erigeron glaucus                      44\n",
       "Vulpia sp.                            43\n",
       "Ambrosia chamissonis                  38\n",
       "Hordeum sp.                           37\n",
       "Grindelia hirsutula var. maritima     35\n",
       "Artemisa pycnocephala                 29\n",
       "Madia sativa                          28\n",
       "Medicago polymorpha                   28\n",
       "Ceanothus thyrsiflorus                27\n",
       "Unknown grass                         25\n",
       "                                    ... \n",
       "Gnaphalium luteoalbum                  1\n",
       "Gnaphalium sp.                         1\n",
       "Juncus leseuerii                       1\n",
       "Juncus bufonius                        1\n",
       "ericameria ericoides                   1\n",
       "dead tree stump                        1\n",
       "Holcus lanatus                         1\n",
       "Lobularia maritima                     1\n",
       "Log                                    1\n",
       "Avena fatua                            1\n",
       "Medicago indica                        1\n",
       "PLANT DEBRIS LITTER                    1\n",
       "Claytonia Perfoliata                   1\n",
       "Phacelia californica                   1\n",
       "Hesperocnide tenella                   1\n",
       "Cardionema radicata                    1\n",
       "Cypress litter                         1\n",
       "CUMA PIRA litter                       1\n",
       "Polygonum arenastrum                   1\n",
       "Marah fabaceous                        1\n",
       "Senecio vulgaris                       1\n",
       "Bromus carinatus ssp. maritimus        1\n",
       "Bromus Carinatus                       1\n",
       "Rock                                   1\n",
       "Rumex crispus                          1\n",
       "Ericameria ericoides                   1\n",
       "Lotus strigosus                        1\n",
       "BRMA litter                            1\n",
       "PIRA litter                            1\n",
       "Cardionema ramosissimum                1\n",
       "Name: counts, dtype: int64"
      ]
     },
     "execution_count": 75,
     "metadata": {},
     "output_type": "execute_result"
    }
   ],
   "source": [
    "species = df[[\"Species\"]].copy()\n",
    "species[\"counts\"] = 1\n",
    "species_freq = species.groupby(\"Species\").agg(sum).iloc[:,0].copy()\n",
    "species_freq.sort(ascending=False)\n",
    "species_freq"
   ]
  },
  {
   "cell_type": "markdown",
   "metadata": {},
   "source": [
    "### Remove rows with any absent values \"-\""
   ]
  },
  {
   "cell_type": "code",
   "execution_count": 77,
   "metadata": {
    "collapsed": true
   },
   "outputs": [],
   "source": [
    "df_yr_sp = df[[\"Site-YearCode\", \"Species\"]]\n",
    "valid = ~df_yr_sp.applymap( lambda x: x == \"-\").any(axis=1)\n",
    "df_yr_sp = df_yr_sp.loc[valid]"
   ]
  },
  {
   "cell_type": "markdown",
   "metadata": {},
   "source": [
    "### Split Site and Year into two columns"
   ]
  },
  {
   "cell_type": "code",
   "execution_count": 78,
   "metadata": {
    "collapsed": false
   },
   "outputs": [
    {
     "data": {
      "text/html": [
       "<div>\n",
       "<table border=\"1\" class=\"dataframe\">\n",
       "  <thead>\n",
       "    <tr style=\"text-align: right;\">\n",
       "      <th></th>\n",
       "      <th>Species</th>\n",
       "      <th>year</th>\n",
       "      <th>site</th>\n",
       "    </tr>\n",
       "  </thead>\n",
       "  <tbody>\n",
       "    <tr>\n",
       "      <th>2</th>\n",
       "      <td>Achillea millefolium</td>\n",
       "      <td>2010</td>\n",
       "      <td>NMS</td>\n",
       "    </tr>\n",
       "    <tr>\n",
       "      <th>3</th>\n",
       "      <td>Achillea millefolium</td>\n",
       "      <td>2010</td>\n",
       "      <td>NMS</td>\n",
       "    </tr>\n",
       "    <tr>\n",
       "      <th>4</th>\n",
       "      <td>Achillea millefolium</td>\n",
       "      <td>2010</td>\n",
       "      <td>NMS</td>\n",
       "    </tr>\n",
       "    <tr>\n",
       "      <th>5</th>\n",
       "      <td>Achillea millefolium</td>\n",
       "      <td>2010</td>\n",
       "      <td>NMS</td>\n",
       "    </tr>\n",
       "    <tr>\n",
       "      <th>6</th>\n",
       "      <td>Achillea millefolium</td>\n",
       "      <td>2011</td>\n",
       "      <td>NMS</td>\n",
       "    </tr>\n",
       "  </tbody>\n",
       "</table>\n",
       "</div>"
      ],
      "text/plain": [
       "                Species  year site\n",
       "2  Achillea millefolium  2010  NMS\n",
       "3  Achillea millefolium  2010  NMS\n",
       "4  Achillea millefolium  2010  NMS\n",
       "5  Achillea millefolium  2010  NMS\n",
       "6  Achillea millefolium  2011  NMS"
      ]
     },
     "execution_count": 78,
     "metadata": {},
     "output_type": "execute_result"
    }
   ],
   "source": [
    "get_year = lambda x: int(x.split('-')[-1])\n",
    "get_site = lambda x: x.split('-')[0]\n",
    "\n",
    "df_yr_sp[\"year\"] = df_yr_sp[\"Site-YearCode\"].map(get_year)\n",
    "df_yr_sp[\"site\"] = df_yr_sp[\"Site-YearCode\"].map(get_site)\n",
    "\n",
    "df_yr_sp.drop(\"Site-YearCode\", axis=1, inplace=True)\n",
    "df_yr_sp.head()"
   ]
  },
  {
   "cell_type": "markdown",
   "metadata": {},
   "source": [
    "### Look at Unique Species by Site and Year"
   ]
  },
  {
   "cell_type": "code",
   "execution_count": 80,
   "metadata": {
    "collapsed": false
   },
   "outputs": [
    {
     "name": "stdout",
     "output_type": "stream",
     "text": [
      "(('EAPO', 2011), 31)\n",
      "(('NMS', 2010), 45)\n",
      "(('NMS', 2011), 35)\n",
      "(('NMS', 2012), 54)\n",
      "(('NUWO', 2010), 54)\n",
      "(('NUWO', 2011), 25)\n",
      "(('NUWO', 2012), 47)\n",
      "(('SUDO', 2010), 35)\n",
      "(('SUDO', 2011), 31)\n",
      "(('SUDO', 2012), 41)\n",
      "(('SUDO', 2013), 4)\n",
      "(('SUDO', 2014), 1)\n",
      "(('SUDU', 2008), 33)\n",
      "(('SUDU', 2009), 40)\n"
     ]
    }
   ],
   "source": [
    "for kk, vv in df_yr_sp.groupby([\"site\", \"year\"]):\n",
    "    print(kk, vv[\"Species\"].unique().shape[0])"
   ]
  },
  {
   "cell_type": "markdown",
   "metadata": {},
   "source": [
    "### Plot Frequency of Species"
   ]
  },
  {
   "cell_type": "code",
   "execution_count": 71,
   "metadata": {
    "collapsed": false,
    "scrolled": true
   },
   "outputs": [
    {
     "data": {
      "image/png": "[encoded data removed]",
      "text/plain": [
       "<matplotlib.figure.Figure at 0x7f791aeadb90>"
      ]
     },
     "metadata": {},
     "output_type": "display_data"
    }
   ],
   "source": [
    "species_freq.plot(kind = \"bar\")\n",
    "pass"
   ]
  }
 ],
 "metadata": {
  "kernelspec": {
   "display_name": "Python 2",
   "language": "python",
   "name": "python2"
  },
  "language_info": {
   "codemirror_mode": {
    "name": "ipython",
    "version": 2
   },
   "file_extension": ".py",
   "mimetype": "text/x-python",
   "name": "python",
   "nbconvert_exporter": "python",
   "pygments_lexer": "ipython2",
   "version": "2.7.9"
  }
 },
 "nbformat": 4,
 "nbformat_minor": 0
}
